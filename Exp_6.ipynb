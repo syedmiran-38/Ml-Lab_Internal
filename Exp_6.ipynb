{
  "nbformat": 4,
  "nbformat_minor": 0,
  "metadata": {
    "colab": {
      "provenance": []
    },
    "kernelspec": {
      "name": "python3",
      "display_name": "Python 3"
    },
    "language_info": {
      "name": "python"
    }
  },
  "cells": [
    {
      "cell_type": "code",
      "execution_count": 1,
      "metadata": {
        "id": "gM6VK1xQGdjP",
        "colab": {
          "base_uri": "https://localhost:8080/"
        },
        "outputId": "d4177570-bd12-496f-9367-810f5d2d6aae"
      },
      "outputs": [
        {
          "output_type": "stream",
          "name": "stdout",
          "text": [
            "The dimensions of the dataset: (18, 2)\n",
            "Messages (X): 0                      I love this sandwich\n",
            "1                  This is an amazing place\n",
            "2        I feel very good about these beers\n",
            "3                      This is my best work\n",
            "4                      What an awesome view\n",
            "5             I do not like this restaurant\n",
            "6                  I am tired of this stuff\n",
            "7                    I can't deal with this\n",
            "8                      He is my sworn enemy\n",
            "9                       My boss is horrible\n",
            "10                 This is an awesome place\n",
            "11    I do not like the taste of this juice\n",
            "12                          I love to dance\n",
            "13        I am sick and tired of this place\n",
            "14                     What a great holiday\n",
            "15           That is a bad locality to stay\n",
            "16           We will have good fun tomorrow\n",
            "17         I went to my enemy's house today\n",
            "Name: message, dtype: object\n",
            "Labels (y): 0     1\n",
            "1     1\n",
            "2     1\n",
            "3     1\n",
            "4     1\n",
            "5     0\n",
            "6     0\n",
            "7     0\n",
            "8     0\n",
            "9     0\n",
            "10    1\n",
            "11    0\n",
            "12    1\n",
            "13    0\n",
            "14    1\n",
            "15    0\n",
            "16    1\n",
            "17    0\n",
            "Name: labelnum, dtype: int64\n",
            "The total number of Training Data: 13\n",
            "The total number of Test Data: 5\n",
            "\n",
            "The words or Tokens in the text documents:\n",
            "['about' 'am' 'an' 'and' 'awesome' 'bad' 'beers' 'boss' 'can' 'dance'\n",
            " 'deal' 'do' 'enemy' 'feel' 'fun' 'good' 'great' 'have' 'holiday'\n",
            " 'horrible' 'house' 'is' 'juice' 'like' 'locality' 'love' 'my' 'not' 'of'\n",
            " 'place' 'sick' 'stay' 'stuff' 'taste' 'that' 'the' 'these' 'this' 'tired'\n",
            " 'to' 'today' 'tomorrow' 'very' 'view' 'we' 'went' 'what' 'will' 'with']\n",
            "\n",
            "Accuracy of the classifier is: 0.6\n",
            "\n",
            "Confusion matrix:\n",
            "[[2 0]\n",
            " [2 1]]\n",
            "\n",
            "The value of Precision: 1.0\n",
            "The value of Recall: 0.3333333333333333\n"
          ]
        }
      ],
      "source": [
        "import pandas as pd\n",
        "from sklearn.model_selection import train_test_split\n",
        "from sklearn.feature_extraction.text import CountVectorizer\n",
        "from sklearn.naive_bayes import MultinomialNB\n",
        "from sklearn import metrics\n",
        "\n",
        "msg = pd.read_csv('naivetext.csv', names=['message', 'label'])\n",
        "print('The dimensions of the dataset:', msg.shape)\n",
        "\n",
        "msg['labelnum'] = msg.label.map({'pos': 1, 'neg': 0})\n",
        "\n",
        "X = msg.message\n",
        "y = msg.labelnum\n",
        "print(\"Messages (X):\", X)\n",
        "print(\"Labels (y):\", y)\n",
        "\n",
        "X_train, X_test, y_train, y_test = train_test_split(X, y, test_size=0.25, random_state=42)\n",
        "print('The total number of Training Data:', y_train.shape[0])\n",
        "print('The total number of Test Data:', y_test.shape[0])\n",
        "\n",
        "# Convert text to word frequency vectors\n",
        "count_vect = CountVectorizer()\n",
        "X_train_dtm = count_vect.fit_transform(X_train)\n",
        "X_test_dtm = count_vect.transform(X_test)\n",
        "\n",
        "print(\"\\nThe words or Tokens in the text documents:\")\n",
        "print(count_vect.get_feature_names_out())\n",
        "\n",
        "# Convert the document-term matrix to a DataFrame\n",
        "df = pd.DataFrame(X_train_dtm.toarray(), columns=count_vect.get_feature_names_out())\n",
        "\n",
        "# Training Naive Bayes (NB) classifier on training data\n",
        "clf = MultinomialNB().fit(X_train_dtm, y_train)\n",
        "\n",
        "# Predict the test data\n",
        "predicted = clf.predict(X_test_dtm)\n",
        "\n",
        "# Printing accuracy, Confusion matrix, Precision, and Recall\n",
        "print(\"\\nAccuracy of the classifier is:\", metrics.accuracy_score(y_test, predicted))\n",
        "print(\"\\nConfusion matrix:\")\n",
        "print(metrics.confusion_matrix(y_test, predicted))\n",
        "print(\"\\nThe value of Precision:\", metrics.precision_score(y_test, predicted))\n",
        "print(\"The value of Recall:\", metrics.recall_score(y_test, predicted))\n"
      ]
    }
  ]
}